{
 "cells": [
  {
   "attachments": {},
   "cell_type": "markdown",
   "metadata": {},
   "source": [
    "convert csv to xlsx"
   ]
  },
  {
   "cell_type": "code",
   "execution_count": 117,
   "metadata": {},
   "outputs": [],
   "source": [
    "import pandas as pd\n",
    "import numpy as np\n",
    "import datetime as dt\n",
    "list_unicorn_csv = pd.read_csv(r'./assets/data/list-of-unicorn-startup-companies.csv')"
   ]
  },
  {
   "attachments": {},
   "cell_type": "markdown",
   "metadata": {},
   "source": [
    "#CLEANSING"
   ]
  },
  {
   "attachments": {},
   "cell_type": "markdown",
   "metadata": {},
   "source": [
    "remove unused column, ('id'), bisa menggunakan drop, pop, atau del"
   ]
  },
  {
   "cell_type": "code",
   "execution_count": 118,
   "metadata": {},
   "outputs": [],
   "source": [
    "list_unicorn_csv.drop(['id', 'Founder(s)'], inplace=True, axis=1)"
   ]
  },
  {
   "cell_type": "code",
   "execution_count": 119,
   "metadata": {},
   "outputs": [
    {
     "data": {
      "text/plain": [
       "Index(['Company', 'Valuation(US$ billions)', 'Valuation date', 'Industry',\n",
       "       'Country/countries'],\n",
       "      dtype='object')"
      ]
     },
     "execution_count": 119,
     "metadata": {},
     "output_type": "execute_result"
    }
   ],
   "source": [
    "list_unicorn_csv.columns"
   ]
  },
  {
   "cell_type": "code",
   "execution_count": 120,
   "metadata": {},
   "outputs": [],
   "source": [
    "list_unicorn_csv.rename(columns={'Company':'company', 'Valuation(US$ billions)':\"valuation\", \"Valuation date\":\"valuation_date\", \"Industry\": \"industry\", \"Country/countries\": \"country\"}, inplace=True)"
   ]
  },
  {
   "cell_type": "code",
   "execution_count": 121,
   "metadata": {},
   "outputs": [
    {
     "name": "stdout",
     "output_type": "stream",
     "text": [
      "company            0\n",
      "valuation          0\n",
      "valuation_date     0\n",
      "industry          64\n",
      "country            0\n",
      "dtype: int64\n"
     ]
    }
   ],
   "source": [
    "print(list_unicorn_csv.isna().sum())"
   ]
  },
  {
   "attachments": {},
   "cell_type": "markdown",
   "metadata": {},
   "source": [
    "Cek Missing Value"
   ]
  },
  {
   "cell_type": "code",
   "execution_count": 122,
   "metadata": {},
   "outputs": [
    {
     "data": {
      "text/plain": [
       "industry\n",
       "Financial technology                               71\n",
       "Software                                           50\n",
       "E-commerce                                         30\n",
       "Cybersecurity                                      23\n",
       "Artificial intelligence                            19\n",
       "                                                   ..\n",
       "Trucking                                            1\n",
       "Home improvement                                    1\n",
       "Superintelligence・Quantum computing・Metaverse       1\n",
       "Content management system                           1\n",
       "Environmental,_social,_and_corporate_governance     1\n",
       "Name: count, Length: 155, dtype: int64"
      ]
     },
     "execution_count": 122,
     "metadata": {},
     "output_type": "execute_result"
    }
   ],
   "source": [
    "list_unicorn_csv['industry'].value_counts()"
   ]
  },
  {
   "cell_type": "code",
   "execution_count": 123,
   "metadata": {},
   "outputs": [
    {
     "data": {
      "text/plain": [
       "0    Financial technology\n",
       "Name: industry, dtype: object"
      ]
     },
     "execution_count": 123,
     "metadata": {},
     "output_type": "execute_result"
    }
   ],
   "source": [
    "industry_modus = list_unicorn_csv['industry'].mode()\n",
    "industry_modus"
   ]
  },
  {
   "cell_type": "code",
   "execution_count": 124,
   "metadata": {},
   "outputs": [],
   "source": [
    "list_unicorn_csv['industry'].replace(np.nan, industry_modus[0], inplace=True)"
   ]
  },
  {
   "cell_type": "code",
   "execution_count": 125,
   "metadata": {},
   "outputs": [
    {
     "name": "stdout",
     "output_type": "stream",
     "text": [
      "company           0\n",
      "valuation         0\n",
      "valuation_date    0\n",
      "industry          0\n",
      "country           0\n",
      "dtype: int64\n"
     ]
    }
   ],
   "source": [
    "print(list_unicorn_csv.isna().sum())"
   ]
  },
  {
   "cell_type": "code",
   "execution_count": 126,
   "metadata": {},
   "outputs": [
    {
     "data": {
      "text/html": [
       "<div>\n",
       "<style scoped>\n",
       "    .dataframe tbody tr th:only-of-type {\n",
       "        vertical-align: middle;\n",
       "    }\n",
       "\n",
       "    .dataframe tbody tr th {\n",
       "        vertical-align: top;\n",
       "    }\n",
       "\n",
       "    .dataframe thead th {\n",
       "        text-align: right;\n",
       "    }\n",
       "</style>\n",
       "<table border=\"1\" class=\"dataframe\">\n",
       "  <thead>\n",
       "    <tr style=\"text-align: right;\">\n",
       "      <th></th>\n",
       "      <th>company</th>\n",
       "      <th>valuation</th>\n",
       "      <th>valuation_date</th>\n",
       "      <th>industry</th>\n",
       "      <th>country</th>\n",
       "    </tr>\n",
       "  </thead>\n",
       "  <tbody>\n",
       "    <tr>\n",
       "      <th>0</th>\n",
       "      <td>ByteDance</td>\n",
       "      <td>140</td>\n",
       "      <td>June 2022[13]</td>\n",
       "      <td>Internet</td>\n",
       "      <td>China</td>\n",
       "    </tr>\n",
       "    <tr>\n",
       "      <th>1</th>\n",
       "      <td>SpaceX</td>\n",
       "      <td>127</td>\n",
       "      <td>June 2022[13]</td>\n",
       "      <td>Aerospace</td>\n",
       "      <td>US</td>\n",
       "    </tr>\n",
       "    <tr>\n",
       "      <th>2</th>\n",
       "      <td>Shein</td>\n",
       "      <td>100</td>\n",
       "      <td>June 2022[13]</td>\n",
       "      <td>E-commerce</td>\n",
       "      <td>China</td>\n",
       "    </tr>\n",
       "    <tr>\n",
       "      <th>3</th>\n",
       "      <td>Stripe</td>\n",
       "      <td>50</td>\n",
       "      <td>March 2023[13]</td>\n",
       "      <td>Financial services</td>\n",
       "      <td>US / Ireland</td>\n",
       "    </tr>\n",
       "    <tr>\n",
       "      <th>4</th>\n",
       "      <td>Canva</td>\n",
       "      <td>40</td>\n",
       "      <td>September 2021[16]</td>\n",
       "      <td>Graphic design</td>\n",
       "      <td>Australia</td>\n",
       "    </tr>\n",
       "    <tr>\n",
       "      <th>...</th>\n",
       "      <td>...</td>\n",
       "      <td>...</td>\n",
       "      <td>...</td>\n",
       "      <td>...</td>\n",
       "      <td>...</td>\n",
       "    </tr>\n",
       "    <tr>\n",
       "      <th>653</th>\n",
       "      <td>Voi</td>\n",
       "      <td>1+</td>\n",
       "      <td>April 2022[59]</td>\n",
       "      <td>Financial technology</td>\n",
       "      <td>Sweden</td>\n",
       "    </tr>\n",
       "    <tr>\n",
       "      <th>654</th>\n",
       "      <td>Neo Financial</td>\n",
       "      <td>1</td>\n",
       "      <td>May 2022[567]</td>\n",
       "      <td>Financial technology</td>\n",
       "      <td>Canada</td>\n",
       "    </tr>\n",
       "    <tr>\n",
       "      <th>655</th>\n",
       "      <td>Physics Wallah</td>\n",
       "      <td>1.1</td>\n",
       "      <td>June 2022[568]</td>\n",
       "      <td>Educational technology</td>\n",
       "      <td>India</td>\n",
       "    </tr>\n",
       "    <tr>\n",
       "      <th>656</th>\n",
       "      <td>OneCard</td>\n",
       "      <td>1.4+</td>\n",
       "      <td>July 2022[569]</td>\n",
       "      <td>Financial technology</td>\n",
       "      <td>India</td>\n",
       "    </tr>\n",
       "    <tr>\n",
       "      <th>657</th>\n",
       "      <td>5ire</td>\n",
       "      <td>1.5+</td>\n",
       "      <td>July 2022[570]</td>\n",
       "      <td>Technology</td>\n",
       "      <td>India</td>\n",
       "    </tr>\n",
       "  </tbody>\n",
       "</table>\n",
       "<p>658 rows × 5 columns</p>\n",
       "</div>"
      ],
      "text/plain": [
       "            company valuation      valuation_date                industry   \n",
       "0         ByteDance       140       June 2022[13]                Internet  \\\n",
       "1            SpaceX       127       June 2022[13]               Aerospace   \n",
       "2             Shein       100       June 2022[13]              E-commerce   \n",
       "3            Stripe        50      March 2023[13]      Financial services   \n",
       "4             Canva        40  September 2021[16]          Graphic design   \n",
       "..              ...       ...                 ...                     ...   \n",
       "653             Voi        1+      April 2022[59]    Financial technology   \n",
       "654   Neo Financial         1       May 2022[567]    Financial technology   \n",
       "655  Physics Wallah       1.1      June 2022[568]  Educational technology   \n",
       "656         OneCard      1.4+      July 2022[569]    Financial technology   \n",
       "657            5ire      1.5+      July 2022[570]              Technology   \n",
       "\n",
       "          country  \n",
       "0           China  \n",
       "1              US  \n",
       "2           China  \n",
       "3    US / Ireland  \n",
       "4       Australia  \n",
       "..            ...  \n",
       "653        Sweden  \n",
       "654        Canada  \n",
       "655         India  \n",
       "656         India  \n",
       "657         India  \n",
       "\n",
       "[658 rows x 5 columns]"
      ]
     },
     "execution_count": 126,
     "metadata": {},
     "output_type": "execute_result"
    }
   ],
   "source": [
    "list_unicorn_csv"
   ]
  },
  {
   "attachments": {},
   "cell_type": "markdown",
   "metadata": {},
   "source": [
    "FORMATING\n"
   ]
  },
  {
   "cell_type": "code",
   "execution_count": 127,
   "metadata": {},
   "outputs": [
    {
     "data": {
      "text/plain": [
       "company           object\n",
       "valuation         object\n",
       "valuation_date    object\n",
       "industry          object\n",
       "country           object\n",
       "dtype: object"
      ]
     },
     "execution_count": 127,
     "metadata": {},
     "output_type": "execute_result"
    }
   ],
   "source": [
    "list_unicorn_csv.dtypes"
   ]
  },
  {
   "cell_type": "code",
   "execution_count": 128,
   "metadata": {},
   "outputs": [
    {
     "data": {
      "text/html": [
       "<div>\n",
       "<style scoped>\n",
       "    .dataframe tbody tr th:only-of-type {\n",
       "        vertical-align: middle;\n",
       "    }\n",
       "\n",
       "    .dataframe tbody tr th {\n",
       "        vertical-align: top;\n",
       "    }\n",
       "\n",
       "    .dataframe thead th {\n",
       "        text-align: right;\n",
       "    }\n",
       "</style>\n",
       "<table border=\"1\" class=\"dataframe\">\n",
       "  <thead>\n",
       "    <tr style=\"text-align: right;\">\n",
       "      <th></th>\n",
       "      <th>company</th>\n",
       "      <th>valuation</th>\n",
       "      <th>valuation_date</th>\n",
       "      <th>industry</th>\n",
       "      <th>country</th>\n",
       "    </tr>\n",
       "  </thead>\n",
       "  <tbody>\n",
       "    <tr>\n",
       "      <th>0</th>\n",
       "      <td>ByteDance</td>\n",
       "      <td>140</td>\n",
       "      <td>June 2022</td>\n",
       "      <td>Internet</td>\n",
       "      <td>China</td>\n",
       "    </tr>\n",
       "    <tr>\n",
       "      <th>1</th>\n",
       "      <td>SpaceX</td>\n",
       "      <td>127</td>\n",
       "      <td>June 2022</td>\n",
       "      <td>Aerospace</td>\n",
       "      <td>US</td>\n",
       "    </tr>\n",
       "    <tr>\n",
       "      <th>2</th>\n",
       "      <td>Shein</td>\n",
       "      <td>100</td>\n",
       "      <td>June 2022</td>\n",
       "      <td>E-commerce</td>\n",
       "      <td>China</td>\n",
       "    </tr>\n",
       "    <tr>\n",
       "      <th>3</th>\n",
       "      <td>Stripe</td>\n",
       "      <td>50</td>\n",
       "      <td>March 2023</td>\n",
       "      <td>Financial services</td>\n",
       "      <td>US / Ireland</td>\n",
       "    </tr>\n",
       "    <tr>\n",
       "      <th>4</th>\n",
       "      <td>Canva</td>\n",
       "      <td>40</td>\n",
       "      <td>September 2021</td>\n",
       "      <td>Graphic design</td>\n",
       "      <td>Australia</td>\n",
       "    </tr>\n",
       "    <tr>\n",
       "      <th>...</th>\n",
       "      <td>...</td>\n",
       "      <td>...</td>\n",
       "      <td>...</td>\n",
       "      <td>...</td>\n",
       "      <td>...</td>\n",
       "    </tr>\n",
       "    <tr>\n",
       "      <th>653</th>\n",
       "      <td>Voi</td>\n",
       "      <td>1+</td>\n",
       "      <td>April 2022</td>\n",
       "      <td>Financial technology</td>\n",
       "      <td>Sweden</td>\n",
       "    </tr>\n",
       "    <tr>\n",
       "      <th>654</th>\n",
       "      <td>Neo Financial</td>\n",
       "      <td>1</td>\n",
       "      <td>May 2022</td>\n",
       "      <td>Financial technology</td>\n",
       "      <td>Canada</td>\n",
       "    </tr>\n",
       "    <tr>\n",
       "      <th>655</th>\n",
       "      <td>Physics Wallah</td>\n",
       "      <td>1.1</td>\n",
       "      <td>June 2022</td>\n",
       "      <td>Educational technology</td>\n",
       "      <td>India</td>\n",
       "    </tr>\n",
       "    <tr>\n",
       "      <th>656</th>\n",
       "      <td>OneCard</td>\n",
       "      <td>1.4+</td>\n",
       "      <td>July 2022</td>\n",
       "      <td>Financial technology</td>\n",
       "      <td>India</td>\n",
       "    </tr>\n",
       "    <tr>\n",
       "      <th>657</th>\n",
       "      <td>5ire</td>\n",
       "      <td>1.5+</td>\n",
       "      <td>July 2022</td>\n",
       "      <td>Technology</td>\n",
       "      <td>India</td>\n",
       "    </tr>\n",
       "  </tbody>\n",
       "</table>\n",
       "<p>658 rows × 5 columns</p>\n",
       "</div>"
      ],
      "text/plain": [
       "            company valuation  valuation_date                industry   \n",
       "0         ByteDance       140       June 2022                Internet  \\\n",
       "1            SpaceX       127       June 2022               Aerospace   \n",
       "2             Shein       100       June 2022              E-commerce   \n",
       "3            Stripe        50      March 2023      Financial services   \n",
       "4             Canva        40  September 2021          Graphic design   \n",
       "..              ...       ...             ...                     ...   \n",
       "653             Voi        1+      April 2022    Financial technology   \n",
       "654   Neo Financial         1        May 2022    Financial technology   \n",
       "655  Physics Wallah       1.1       June 2022  Educational technology   \n",
       "656         OneCard      1.4+       July 2022    Financial technology   \n",
       "657            5ire      1.5+       July 2022              Technology   \n",
       "\n",
       "          country  \n",
       "0           China  \n",
       "1              US  \n",
       "2           China  \n",
       "3    US / Ireland  \n",
       "4       Australia  \n",
       "..            ...  \n",
       "653        Sweden  \n",
       "654        Canada  \n",
       "655         India  \n",
       "656         India  \n",
       "657         India  \n",
       "\n",
       "[658 rows x 5 columns]"
      ]
     },
     "execution_count": 128,
     "metadata": {},
     "output_type": "execute_result"
    }
   ],
   "source": [
    "list_unicorn_csv['valuation_date'] = list_unicorn_csv['valuation_date'].str.replace('\\[.*\\]', '', regex=True)\n",
    "list_unicorn_csv"
   ]
  },
  {
   "cell_type": "code",
   "execution_count": 129,
   "metadata": {},
   "outputs": [
    {
     "data": {
      "text/html": [
       "<div>\n",
       "<style scoped>\n",
       "    .dataframe tbody tr th:only-of-type {\n",
       "        vertical-align: middle;\n",
       "    }\n",
       "\n",
       "    .dataframe tbody tr th {\n",
       "        vertical-align: top;\n",
       "    }\n",
       "\n",
       "    .dataframe thead th {\n",
       "        text-align: right;\n",
       "    }\n",
       "</style>\n",
       "<table border=\"1\" class=\"dataframe\">\n",
       "  <thead>\n",
       "    <tr style=\"text-align: right;\">\n",
       "      <th></th>\n",
       "      <th>company</th>\n",
       "      <th>valuation</th>\n",
       "      <th>valuation_date</th>\n",
       "      <th>industry</th>\n",
       "      <th>country</th>\n",
       "    </tr>\n",
       "  </thead>\n",
       "  <tbody>\n",
       "    <tr>\n",
       "      <th>0</th>\n",
       "      <td>ByteDance</td>\n",
       "      <td>140</td>\n",
       "      <td>June 2022</td>\n",
       "      <td>Internet</td>\n",
       "      <td>China</td>\n",
       "    </tr>\n",
       "    <tr>\n",
       "      <th>1</th>\n",
       "      <td>SpaceX</td>\n",
       "      <td>127</td>\n",
       "      <td>June 2022</td>\n",
       "      <td>Aerospace</td>\n",
       "      <td>US</td>\n",
       "    </tr>\n",
       "    <tr>\n",
       "      <th>2</th>\n",
       "      <td>Shein</td>\n",
       "      <td>100</td>\n",
       "      <td>June 2022</td>\n",
       "      <td>E-commerce</td>\n",
       "      <td>China</td>\n",
       "    </tr>\n",
       "    <tr>\n",
       "      <th>3</th>\n",
       "      <td>Stripe</td>\n",
       "      <td>50</td>\n",
       "      <td>March 2023</td>\n",
       "      <td>Financial services</td>\n",
       "      <td>US / Ireland</td>\n",
       "    </tr>\n",
       "    <tr>\n",
       "      <th>4</th>\n",
       "      <td>Canva</td>\n",
       "      <td>40</td>\n",
       "      <td>September 2021</td>\n",
       "      <td>Graphic design</td>\n",
       "      <td>Australia</td>\n",
       "    </tr>\n",
       "    <tr>\n",
       "      <th>...</th>\n",
       "      <td>...</td>\n",
       "      <td>...</td>\n",
       "      <td>...</td>\n",
       "      <td>...</td>\n",
       "      <td>...</td>\n",
       "    </tr>\n",
       "    <tr>\n",
       "      <th>653</th>\n",
       "      <td>Voi</td>\n",
       "      <td>1</td>\n",
       "      <td>April 2022</td>\n",
       "      <td>Financial technology</td>\n",
       "      <td>Sweden</td>\n",
       "    </tr>\n",
       "    <tr>\n",
       "      <th>654</th>\n",
       "      <td>Neo Financial</td>\n",
       "      <td>1</td>\n",
       "      <td>May 2022</td>\n",
       "      <td>Financial technology</td>\n",
       "      <td>Canada</td>\n",
       "    </tr>\n",
       "    <tr>\n",
       "      <th>655</th>\n",
       "      <td>Physics Wallah</td>\n",
       "      <td>1.1</td>\n",
       "      <td>June 2022</td>\n",
       "      <td>Educational technology</td>\n",
       "      <td>India</td>\n",
       "    </tr>\n",
       "    <tr>\n",
       "      <th>656</th>\n",
       "      <td>OneCard</td>\n",
       "      <td>1.4</td>\n",
       "      <td>July 2022</td>\n",
       "      <td>Financial technology</td>\n",
       "      <td>India</td>\n",
       "    </tr>\n",
       "    <tr>\n",
       "      <th>657</th>\n",
       "      <td>5ire</td>\n",
       "      <td>1.5</td>\n",
       "      <td>July 2022</td>\n",
       "      <td>Technology</td>\n",
       "      <td>India</td>\n",
       "    </tr>\n",
       "  </tbody>\n",
       "</table>\n",
       "<p>658 rows × 5 columns</p>\n",
       "</div>"
      ],
      "text/plain": [
       "            company valuation  valuation_date                industry   \n",
       "0         ByteDance       140       June 2022                Internet  \\\n",
       "1            SpaceX       127       June 2022               Aerospace   \n",
       "2             Shein       100       June 2022              E-commerce   \n",
       "3            Stripe        50      March 2023      Financial services   \n",
       "4             Canva        40  September 2021          Graphic design   \n",
       "..              ...       ...             ...                     ...   \n",
       "653             Voi         1      April 2022    Financial technology   \n",
       "654   Neo Financial         1        May 2022    Financial technology   \n",
       "655  Physics Wallah       1.1       June 2022  Educational technology   \n",
       "656         OneCard       1.4       July 2022    Financial technology   \n",
       "657            5ire       1.5       July 2022              Technology   \n",
       "\n",
       "          country  \n",
       "0           China  \n",
       "1              US  \n",
       "2           China  \n",
       "3    US / Ireland  \n",
       "4       Australia  \n",
       "..            ...  \n",
       "653        Sweden  \n",
       "654        Canada  \n",
       "655         India  \n",
       "656         India  \n",
       "657         India  \n",
       "\n",
       "[658 rows x 5 columns]"
      ]
     },
     "execution_count": 129,
     "metadata": {},
     "output_type": "execute_result"
    }
   ],
   "source": [
    "list_unicorn_csv['valuation'] = list_unicorn_csv['valuation'].str.replace('+', '')\n",
    "list_unicorn_csv"
   ]
  },
  {
   "cell_type": "code",
   "execution_count": 130,
   "metadata": {},
   "outputs": [
    {
     "data": {
      "text/plain": [
       "company           object\n",
       "valuation         object\n",
       "valuation_date    object\n",
       "industry          object\n",
       "country           object\n",
       "dtype: object"
      ]
     },
     "execution_count": 130,
     "metadata": {},
     "output_type": "execute_result"
    }
   ],
   "source": [
    "list_unicorn_csv.dtypes"
   ]
  },
  {
   "cell_type": "code",
   "execution_count": 131,
   "metadata": {},
   "outputs": [],
   "source": [
    "list_unicorn_csv['valuation'].replace('Undisclosed', np.nan, inplace=True)"
   ]
  },
  {
   "cell_type": "code",
   "execution_count": 132,
   "metadata": {},
   "outputs": [
    {
     "data": {
      "text/plain": [
       "4.040517503805176"
      ]
     },
     "execution_count": 132,
     "metadata": {},
     "output_type": "execute_result"
    }
   ],
   "source": [
    "mean_valuation = list_unicorn_csv['valuation'].astype(float).mean()\n",
    "mean_valuation"
   ]
  },
  {
   "cell_type": "code",
   "execution_count": 133,
   "metadata": {},
   "outputs": [],
   "source": [
    "list_unicorn_csv['valuation'].replace(np.nan, mean_valuation, inplace=True)"
   ]
  },
  {
   "cell_type": "code",
   "execution_count": 134,
   "metadata": {},
   "outputs": [
    {
     "data": {
      "text/plain": [
       "company            object\n",
       "valuation         float64\n",
       "valuation_date     object\n",
       "industry           object\n",
       "country            object\n",
       "dtype: object"
      ]
     },
     "execution_count": 134,
     "metadata": {},
     "output_type": "execute_result"
    }
   ],
   "source": [
    "list_unicorn_csv['valuation'] = pd.to_numeric(list_unicorn_csv['valuation'])\n",
    "list_unicorn_csv.dtypes"
   ]
  },
  {
   "cell_type": "code",
   "execution_count": 136,
   "metadata": {},
   "outputs": [
    {
     "name": "stderr",
     "output_type": "stream",
     "text": [
      "C:\\Users\\Novin\\AppData\\Local\\Temp\\ipykernel_25152\\1332032132.py:2: UserWarning: Could not infer format, so each element will be parsed individually, falling back to `dateutil`. To ensure parsing is consistent and as-expected, please specify a format.\n",
      "  list_unicorn_csv['valuation_date'] = pd.to_datetime(list_unicorn_csv['valuation_date']).dt.strftime('%m-%Y')\n"
     ]
    },
    {
     "data": {
      "text/html": [
       "<div>\n",
       "<style scoped>\n",
       "    .dataframe tbody tr th:only-of-type {\n",
       "        vertical-align: middle;\n",
       "    }\n",
       "\n",
       "    .dataframe tbody tr th {\n",
       "        vertical-align: top;\n",
       "    }\n",
       "\n",
       "    .dataframe thead th {\n",
       "        text-align: right;\n",
       "    }\n",
       "</style>\n",
       "<table border=\"1\" class=\"dataframe\">\n",
       "  <thead>\n",
       "    <tr style=\"text-align: right;\">\n",
       "      <th></th>\n",
       "      <th>company</th>\n",
       "      <th>valuation</th>\n",
       "      <th>valuation_date</th>\n",
       "      <th>industry</th>\n",
       "      <th>country</th>\n",
       "    </tr>\n",
       "  </thead>\n",
       "  <tbody>\n",
       "    <tr>\n",
       "      <th>0</th>\n",
       "      <td>ByteDance</td>\n",
       "      <td>140.0</td>\n",
       "      <td>06-2022</td>\n",
       "      <td>Internet</td>\n",
       "      <td>China</td>\n",
       "    </tr>\n",
       "    <tr>\n",
       "      <th>1</th>\n",
       "      <td>SpaceX</td>\n",
       "      <td>127.0</td>\n",
       "      <td>06-2022</td>\n",
       "      <td>Aerospace</td>\n",
       "      <td>US</td>\n",
       "    </tr>\n",
       "    <tr>\n",
       "      <th>2</th>\n",
       "      <td>Shein</td>\n",
       "      <td>100.0</td>\n",
       "      <td>06-2022</td>\n",
       "      <td>E-commerce</td>\n",
       "      <td>China</td>\n",
       "    </tr>\n",
       "    <tr>\n",
       "      <th>3</th>\n",
       "      <td>Stripe</td>\n",
       "      <td>50.0</td>\n",
       "      <td>03-2023</td>\n",
       "      <td>Financial services</td>\n",
       "      <td>US / Ireland</td>\n",
       "    </tr>\n",
       "    <tr>\n",
       "      <th>4</th>\n",
       "      <td>Canva</td>\n",
       "      <td>40.0</td>\n",
       "      <td>09-2021</td>\n",
       "      <td>Graphic design</td>\n",
       "      <td>Australia</td>\n",
       "    </tr>\n",
       "    <tr>\n",
       "      <th>...</th>\n",
       "      <td>...</td>\n",
       "      <td>...</td>\n",
       "      <td>...</td>\n",
       "      <td>...</td>\n",
       "      <td>...</td>\n",
       "    </tr>\n",
       "    <tr>\n",
       "      <th>653</th>\n",
       "      <td>Voi</td>\n",
       "      <td>1.0</td>\n",
       "      <td>04-2022</td>\n",
       "      <td>Financial technology</td>\n",
       "      <td>Sweden</td>\n",
       "    </tr>\n",
       "    <tr>\n",
       "      <th>654</th>\n",
       "      <td>Neo Financial</td>\n",
       "      <td>1.0</td>\n",
       "      <td>05-2022</td>\n",
       "      <td>Financial technology</td>\n",
       "      <td>Canada</td>\n",
       "    </tr>\n",
       "    <tr>\n",
       "      <th>655</th>\n",
       "      <td>Physics Wallah</td>\n",
       "      <td>1.1</td>\n",
       "      <td>06-2022</td>\n",
       "      <td>Educational technology</td>\n",
       "      <td>India</td>\n",
       "    </tr>\n",
       "    <tr>\n",
       "      <th>656</th>\n",
       "      <td>OneCard</td>\n",
       "      <td>1.4</td>\n",
       "      <td>07-2022</td>\n",
       "      <td>Financial technology</td>\n",
       "      <td>India</td>\n",
       "    </tr>\n",
       "    <tr>\n",
       "      <th>657</th>\n",
       "      <td>5ire</td>\n",
       "      <td>1.5</td>\n",
       "      <td>07-2022</td>\n",
       "      <td>Technology</td>\n",
       "      <td>India</td>\n",
       "    </tr>\n",
       "  </tbody>\n",
       "</table>\n",
       "<p>658 rows × 5 columns</p>\n",
       "</div>"
      ],
      "text/plain": [
       "            company  valuation valuation_date                industry   \n",
       "0         ByteDance      140.0        06-2022                Internet  \\\n",
       "1            SpaceX      127.0        06-2022               Aerospace   \n",
       "2             Shein      100.0        06-2022              E-commerce   \n",
       "3            Stripe       50.0        03-2023      Financial services   \n",
       "4             Canva       40.0        09-2021          Graphic design   \n",
       "..              ...        ...            ...                     ...   \n",
       "653             Voi        1.0        04-2022    Financial technology   \n",
       "654   Neo Financial        1.0        05-2022    Financial technology   \n",
       "655  Physics Wallah        1.1        06-2022  Educational technology   \n",
       "656         OneCard        1.4        07-2022    Financial technology   \n",
       "657            5ire        1.5        07-2022              Technology   \n",
       "\n",
       "          country  \n",
       "0           China  \n",
       "1              US  \n",
       "2           China  \n",
       "3    US / Ireland  \n",
       "4       Australia  \n",
       "..            ...  \n",
       "653        Sweden  \n",
       "654        Canada  \n",
       "655         India  \n",
       "656         India  \n",
       "657         India  \n",
       "\n",
       "[658 rows x 5 columns]"
      ]
     },
     "execution_count": 136,
     "metadata": {},
     "output_type": "execute_result"
    }
   ],
   "source": [
    "# list_unicorn_csv['valuation_date'] = pd.to_datetime(list_unicorn_csv['valuation_date'], format='%B %Y')\n",
    "list_unicorn_csv['valuation_date'] = pd.to_datetime(list_unicorn_csv['valuation_date']).dt.strftime('%m-%Y')\n",
    "list_unicorn_csv"
   ]
  },
  {
   "cell_type": "code",
   "execution_count": 141,
   "metadata": {},
   "outputs": [],
   "source": [
    "list_unicorn_csv.to_csv(r'./assets/data/list-of-unicorn-startup-companies-fix.csv', index=None, header=True)\n"
   ]
  }
 ],
 "metadata": {
  "kernelspec": {
   "display_name": "Python 3",
   "language": "python",
   "name": "python3"
  },
  "language_info": {
   "codemirror_mode": {
    "name": "ipython",
    "version": 3
   },
   "file_extension": ".py",
   "mimetype": "text/x-python",
   "name": "python",
   "nbconvert_exporter": "python",
   "pygments_lexer": "ipython3",
   "version": "3.10.2"
  },
  "orig_nbformat": 4
 },
 "nbformat": 4,
 "nbformat_minor": 2
}
